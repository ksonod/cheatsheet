{
 "cells": [
  {
   "cell_type": "markdown",
   "metadata": {},
   "source": [
    "# Keywords"
   ]
  },
  {
   "cell_type": "markdown",
   "metadata": {},
   "source": [
    "- Central tendency\n",
    "- mean (arithmetic, geometric, and harmonic mean)\n",
    "- median\n",
    "- mode"
   ]
  },
  {
   "cell_type": "markdown",
   "metadata": {},
   "source": [
    "# Introduction"
   ]
  },
  {
   "cell_type": "markdown",
   "metadata": {},
   "source": [
    "In order to describe the <strong>[central tendency](https://en.wikipedia.org/wiki/Central_tendency)</strong> of data, this note book shows:\n",
    "- mean\n",
    "- median\n",
    "- mode"
   ]
  },
  {
   "cell_type": "markdown",
   "metadata": {},
   "source": [
    "<p><a href=\"https://commons.wikimedia.org/wiki/File:Visualisation_mode_median_mean.svg#/media/File:Visualisation_mode_median_mean.svg\"><img src=\"https://upload.wikimedia.org/wikipedia/commons/thumb/3/33/Visualisation_mode_median_mean.svg/1200px-Visualisation_mode_median_mean.svg.png\" width=\"200px\" alt=\"Visualisation mode median mean.svg\"></a><br>By <a href=\"//commons.wikimedia.org/wiki/User:Cmglee\" title=\"User:Cmglee\">Cmglee</a> - <span class=\"int-own-work\" lang=\"en\">Own work</span>, <a href=\"https://creativecommons.org/licenses/by-sa/3.0\" title=\"Creative Commons Attribution-Share Alike 3.0\">CC BY-SA 3.0</a>, <a href=\"https://commons.wikimedia.org/w/index.php?curid=38969094\">Link</a></p>"
   ]
  },
  {
   "cell_type": "code",
   "execution_count": 1,
   "metadata": {},
   "outputs": [],
   "source": [
    "import numpy as np"
   ]
  },
  {
   "cell_type": "code",
   "execution_count": 15,
   "metadata": {},
   "outputs": [
    {
     "name": "stdout",
     "output_type": "stream",
     "text": [
      "[3 1 5 5 8 2 4]\n"
     ]
    }
   ],
   "source": [
    "num_list = np.array([3,1,5,5,8,2,4])\n",
    "n=num_list.shape[0]\n",
    "print(num_list)"
   ]
  },
  {
   "cell_type": "markdown",
   "metadata": {},
   "source": [
    "# mean"
   ]
  },
  {
   "cell_type": "markdown",
   "metadata": {},
   "source": [
    "## Arithmetic mean (AM)"
   ]
  },
  {
   "cell_type": "markdown",
   "metadata": {},
   "source": [
    "- Sum of the sampled values divided by the number of samples. \n",
    "\n",
    "$$\n",
    "    \\bar{x}=\\frac{1}{n}\\sum_{i=1}^{n} x_i \n",
    "$$\n",
    "\n",
    "Here, x bar is the <strong>sample mean</strong>. "
   ]
  },
  {
   "cell_type": "code",
   "execution_count": 51,
   "metadata": {},
   "outputs": [
    {
     "data": {
      "text/plain": [
       "4.0"
      ]
     },
     "execution_count": 51,
     "metadata": {},
     "output_type": "execute_result"
    }
   ],
   "source": [
    "(3 + 1 + 5 + 5 + 8 + 2 + 4)/n\n",
    "#np.sum(num_list)/n"
   ]
  },
  {
   "cell_type": "code",
   "execution_count": 52,
   "metadata": {},
   "outputs": [
    {
     "data": {
      "text/plain": [
       "4.0"
      ]
     },
     "execution_count": 52,
     "metadata": {},
     "output_type": "execute_result"
    }
   ],
   "source": [
    "np.mean(num_list)"
   ]
  },
  {
   "cell_type": "markdown",
   "metadata": {},
   "source": [
    "## Geometric mean (GM)"
   ]
  },
  {
   "cell_type": "markdown",
   "metadata": {},
   "source": [
    "- This can be used for sets of positive numbers. \n",
    "\n",
    "$$\n",
    "    \\bar{x} = \\Bigl(\\Pi_{i=1}^{n} x_i \\Bigr)^{\\frac{1}{n}}\n",
    "$$"
   ]
  },
  {
   "cell_type": "markdown",
   "metadata": {},
   "source": [
    "### Numpy"
   ]
  },
  {
   "cell_type": "code",
   "execution_count": 19,
   "metadata": {},
   "outputs": [
    {
     "data": {
      "text/plain": [
       "3.3565382864325617"
      ]
     },
     "execution_count": 19,
     "metadata": {},
     "output_type": "execute_result"
    }
   ],
   "source": [
    "np.prod(num_list)**(1/n)"
   ]
  },
  {
   "cell_type": "markdown",
   "metadata": {},
   "source": [
    "### [scipy.stats.mstats.gmean](https://docs.scipy.org/doc/scipy-0.13.0/reference/generated/scipy.stats.mstats.gmean.html)"
   ]
  },
  {
   "cell_type": "code",
   "execution_count": 20,
   "metadata": {},
   "outputs": [
    {
     "data": {
      "text/plain": [
       "3.356538286432562"
      ]
     },
     "execution_count": 20,
     "metadata": {},
     "output_type": "execute_result"
    }
   ],
   "source": [
    "from scipy.stats.mstats import gmean\n",
    "gmean(num_list)"
   ]
  },
  {
   "cell_type": "markdown",
   "metadata": {},
   "source": [
    "## Harmonic mean (HM)"
   ]
  },
  {
   "cell_type": "markdown",
   "metadata": {},
   "source": [
    "The harmonic mean is useful for sets of numbers which are defined in a specific unit, e.g., speed (distance per unit of time). \n",
    "\n",
    "$$\n",
    "  \\bar{x}=\\frac{n}{\\sum_{i=1}^{n}\\frac{1}{x_i}}\n",
    "$$"
   ]
  },
  {
   "cell_type": "markdown",
   "metadata": {},
   "source": [
    "### Numpy"
   ]
  },
  {
   "cell_type": "code",
   "execution_count": 57,
   "metadata": {},
   "outputs": [
    {
     "data": {
      "text/plain": [
       "2.6837060702875397"
      ]
     },
     "execution_count": 57,
     "metadata": {},
     "output_type": "execute_result"
    }
   ],
   "source": [
    "n/np.sum(1/num_list)"
   ]
  },
  {
   "cell_type": "markdown",
   "metadata": {},
   "source": [
    "### [scipy.stats.hmean](https://docs.scipy.org/doc/scipy-0.13.0/reference/generated/scipy.stats.hmean.html)"
   ]
  },
  {
   "cell_type": "code",
   "execution_count": 58,
   "metadata": {},
   "outputs": [
    {
     "data": {
      "text/plain": [
       "2.6837060702875397"
      ]
     },
     "execution_count": 58,
     "metadata": {},
     "output_type": "execute_result"
    }
   ],
   "source": [
    "from scipy.stats import hmean\n",
    "hmean(num_list)"
   ]
  },
  {
   "cell_type": "markdown",
   "metadata": {},
   "source": [
    "## When to use GM?"
   ]
  },
  {
   "cell_type": "markdown",
   "metadata": {},
   "source": [
    "Useful reference: \"[You should summarize data with the geometric mean](https://medium.com/@JLMC/understanding-three-simple-statistics-for-data-visualizations-2619dbb3677a)\" on Medium."
   ]
  },
  {
   "cell_type": "markdown",
   "metadata": {},
   "source": [
    "1. Geometric mean is used when you calculate, for instance, rate in %. Let us think about someone's salary.    \n",
    "\n",
    "1st year: 50000 USD  \n",
    "2nd year: 60000 USD (120 %)   \n",
    "rd year: 81000 USD (135 %)\n",
    "\n",
    "The geometric mean is calculated to be 1.272. "
   ]
  },
  {
   "cell_type": "code",
   "execution_count": 48,
   "metadata": {},
   "outputs": [
    {
     "name": "stdout",
     "output_type": "stream",
     "text": [
      "GM:  1.2727922061357855\n"
     ]
    },
    {
     "data": {
      "text/plain": [
       "81000.0"
      ]
     },
     "execution_count": 48,
     "metadata": {},
     "output_type": "execute_result"
    }
   ],
   "source": [
    "gmean_rate=gmean(np.array([1.2,1.35]))\n",
    "print(\"GM: \",gmean_rate)\n",
    "50000*gmean_rate*gmean_rate"
   ]
  },
  {
   "cell_type": "markdown",
   "metadata": {},
   "source": [
    "2. Geometric mean is less sensitive to one outlier compared to the arithmetic mean. GM changes its value bacause of the outlier, but does not change by orders of magnitude."
   ]
  },
  {
   "cell_type": "code",
   "execution_count": 31,
   "metadata": {},
   "outputs": [
    {
     "data": {
      "text/plain": [
       "array([    3,     1,     5,     5,     8,     2,     4, 10000])"
      ]
     },
     "execution_count": 31,
     "metadata": {},
     "output_type": "execute_result"
    }
   ],
   "source": [
    "num_list_mod=np.append(num_list,10000)\n",
    "num_list_mod"
   ]
  },
  {
   "cell_type": "code",
   "execution_count": 32,
   "metadata": {},
   "outputs": [
    {
     "name": "stdout",
     "output_type": "stream",
     "text": [
      "AM without the outlier (1000): 4.0\n",
      "AM with the outlier (1000): 1253.5\n",
      "GM without the outlier (1000): 3.356538286432562\n",
      "GM with the outlier (1000): 9.123367196696424\n"
     ]
    }
   ],
   "source": [
    "print(\"AM without the outlier (1000):\", np.mean(num_list))\n",
    "print(\"AM with the outlier (1000):\", np.mean(num_list_mod))\n",
    "print(\"GM without the outlier (1000):\", gmean(num_list))\n",
    "print(\"GM with the outlier (1000):\", gmean(num_list_mod))"
   ]
  },
  {
   "cell_type": "markdown",
   "metadata": {},
   "source": [
    "## When to use HM?"
   ]
  },
  {
   "cell_type": "markdown",
   "metadata": {},
   "source": [
    "You can use the harmonic mean when considering sets of numbers which are defined in a specific unit, e.g., speed (distance per unit of time). "
   ]
  },
  {
   "cell_type": "markdown",
   "metadata": {},
   "source": [
    "Example: I drive the first 1 km with the speed of 10 km/h and the second 1 km with 20 km/h.\n",
    "\n",
    "- First part: 0.1 hour\n",
    "- Second part: 0.05 hour\n",
    "\n",
    "The harmonic mean is 2 / (1/10 + 1/20) = 2 / ( 0.1+ 0.05) = 13.3 km/h"
   ]
  },
  {
   "cell_type": "code",
   "execution_count": 73,
   "metadata": {},
   "outputs": [
    {
     "name": "stdout",
     "output_type": "stream",
     "text": [
      "Distance / harmonic mean: 0.15037593984962405\n",
      "This value is almost the same as 0.1 + 0.05.\n"
     ]
    }
   ],
   "source": [
    "print(\"Distance / harmonic mean:\",2/13.3)\n",
    "print(\"This value is almost the same as 0.1 + 0.05.\")"
   ]
  },
  {
   "cell_type": "markdown",
   "metadata": {},
   "source": [
    "# [Median](https://en.wikipedia.org/wiki/Median)"
   ]
  },
  {
   "cell_type": "markdown",
   "metadata": {},
   "source": [
    "- The median is the value separating the higher half from the lower hald of a data sample. \n",
    "- The advantage of the median compared to the mean is that it is not akewed so so much by a small proportion of outliers (extremely large or small values).\n",
    "- THe median is defined for ordered one-dimensional data"
   ]
  },
  {
   "cell_type": "code",
   "execution_count": 64,
   "metadata": {},
   "outputs": [
    {
     "name": "stdout",
     "output_type": "stream",
     "text": [
      "[3 1 5 5 8 2 4]\n",
      "4.0\n"
     ]
    }
   ],
   "source": [
    "print(num_list)\n",
    "print(np.median(num_list))"
   ]
  },
  {
   "cell_type": "markdown",
   "metadata": {},
   "source": [
    "Below is an example."
   ]
  },
  {
   "cell_type": "markdown",
   "metadata": {},
   "source": [
    "<p><a href=\"https://commons.wikimedia.org/wiki/File:Finding_the_median.png#/media/File:Finding_the_median.png\"><img src=\"https://upload.wikimedia.org/wikipedia/commons/thumb/c/cf/Finding_the_median.png/1200px-Finding_the_median.png\" width=\"200px\" alt=\"Finding the median.png\"></a><br>By <a href=\"//commons.wikimedia.org/wiki/User:Blythwood\" title=\"User:Blythwood\">Blythwood</a> - <span class=\"int-own-work\" lang=\"en\">Own work</span>, <a href=\"https://creativecommons.org/licenses/by-sa/4.0\" title=\"Creative Commons Attribution-Share Alike 4.0\">CC BY-SA 4.0</a>, <a href=\"https://commons.wikimedia.org/w/index.php?curid=50321138\">Link</a></p>"
   ]
  },
  {
   "cell_type": "markdown",
   "metadata": {},
   "source": [
    "# Mode"
   ]
  },
  {
   "cell_type": "markdown",
   "metadata": {},
   "source": [
    "- The most frequent value in the data set.\n",
    "- The mode is not necessaryly unique because there might be several maxima in the distribution. "
   ]
  },
  {
   "cell_type": "code",
   "execution_count": 84,
   "metadata": {},
   "outputs": [
    {
     "name": "stdout",
     "output_type": "stream",
     "text": [
      "[3 1 5 5 8 2 4]\n"
     ]
    },
    {
     "data": {
      "text/plain": [
       "5"
      ]
     },
     "execution_count": 84,
     "metadata": {},
     "output_type": "execute_result"
    }
   ],
   "source": [
    "import statistics\n",
    "\n",
    "print(num_list)\n",
    "statistics.mode(num_list)"
   ]
  }
 ],
 "metadata": {
  "kernelspec": {
   "display_name": "Python 3",
   "language": "python",
   "name": "python3"
  },
  "language_info": {
   "codemirror_mode": {
    "name": "ipython",
    "version": 3
   },
   "file_extension": ".py",
   "mimetype": "text/x-python",
   "name": "python",
   "nbconvert_exporter": "python",
   "pygments_lexer": "ipython3",
   "version": "3.7.1"
  },
  "toc": {
   "base_numbering": 1,
   "nav_menu": {},
   "number_sections": true,
   "sideBar": true,
   "skip_h1_title": false,
   "title_cell": "Table of Contents",
   "title_sidebar": "Contents",
   "toc_cell": false,
   "toc_position": {},
   "toc_section_display": true,
   "toc_window_display": true
  }
 },
 "nbformat": 4,
 "nbformat_minor": 2
}
