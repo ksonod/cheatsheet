{
 "cells": [
  {
   "cell_type": "code",
   "execution_count": 150,
   "metadata": {},
   "outputs": [],
   "source": [
    "import numpy as np\n",
    "import matplotlib.pyplot as plt\n",
    "\n",
    "import statistics"
   ]
  },
  {
   "cell_type": "markdown",
   "metadata": {},
   "source": [
    "# Random distribution for the population"
   ]
  },
  {
   "cell_type": "markdown",
   "metadata": {},
   "source": [
    "Let us assume that the distribution of body weight of people in a population is totally random and ranges from 40 to 80. We will take n data from the population as a sample and repeat this procedure num_trials times. If the number of sample data n is sufficiently large, the central limit theorem will be valid. This can be seen if the distribution of the sample mean becomes more like normal distribution. "
   ]
  },
  {
   "cell_type": "code",
   "execution_count": 191,
   "metadata": {},
   "outputs": [
    {
     "name": "stdout",
     "output_type": "stream",
     "text": [
      "The average weight: 59.79 kg\n",
      "The variance: 136.63\n"
     ]
    }
   ],
   "source": [
    "N_pop=1000 # number of data in the population\n",
    "\n",
    "np.random.seed(100) # random seed\n",
    "weight_list = np.random.randint(40, 80, N_pop) # population \n",
    "print('The average weight: %0.2f kg'%np.mean(weight_list))\n",
    "print('The variance: %0.2f'%np.var(weight_list))"
   ]
  },
  {
   "cell_type": "code",
   "execution_count": 192,
   "metadata": {},
   "outputs": [
    {
     "data": {
      "image/png": "[encoded data removed]",
      "text/plain": [
       "<Figure size 1080x288 with 3 Axes>"
      ]
     },
     "metadata": {
      "needs_background": "light"
     },
     "output_type": "display_data"
    }
   ],
   "source": [
    "num_trials=1000 # number of trials\n",
    "\n",
    "\n",
    "plt.figure(figsize=(15,4))\n",
    "plt.subplot(131)\n",
    "\n",
    "ave_weight = []\n",
    "n=1 # sample \n",
    "\n",
    "for i in range(num_trials):\n",
    "    idx=np.random.randint(0,weight_list.shape[0],n)    \n",
    "    ave_weight.append(np.mean(weight_list[idx]))\n",
    "    \n",
    "plt.hist(ave_weight)\n",
    "plt.title(\"n=%d, ave=%0.2f, variance=%0.2f\"%(n,np.mean(ave_weight),np.var(ave_weight)))\n",
    "\n",
    "plt.subplot(132)\n",
    "\n",
    "ave_weight = []\n",
    "n=10\n",
    "\n",
    "for i in range(num_trials):\n",
    "    idx=np.random.randint(0,weight_list.shape[0],n)    \n",
    "    ave_weight.append(np.mean(weight_list[idx]))\n",
    "    \n",
    "plt.hist(ave_weight)\n",
    "plt.title(\"n=%d, ave=%0.2f, variance=%0.2f\"%(n,np.mean(ave_weight),np.var(ave_weight)))\n",
    "\n",
    "\n",
    "plt.subplot(133)\n",
    "\n",
    "ave_weight = []\n",
    "n=200\n",
    "\n",
    "for i in range(num_trials):\n",
    "    idx=np.random.randint(0,weight_list.shape[0],n)    \n",
    "    ave_weight.append(np.mean(weight_list[idx]))\n",
    "\n",
    "plt.hist(ave_weight)\n",
    "plt.title(\"n=%d, ave=%0.2f, variance=%0.2f\"%(n,np.mean(ave_weight),np.var(ave_weight)))\n",
    "\n",
    "plt.show()"
   ]
  },
  {
   "cell_type": "code",
   "execution_count": 193,
   "metadata": {},
   "outputs": [
    {
     "name": "stdout",
     "output_type": "stream",
     "text": [
      "--Variance--\n",
      "The variance of the population is 136.63. If you divide this value by the number of data in a sample n, we get 0.68. This is almost the same as the variance of the sample, 0.65.\n",
      "\n",
      "--Mean--\n",
      "The mean of the population is 59.79. This is almost the same as the mean of the sample, 59.77.\n",
      "\n",
      "--Mean and Median--\n",
      "The mean of the sample is 59.77. This is almost the same as the median of the sample, 59.77. The mode of the sample has almost the same value as well (59.87).\n"
     ]
    }
   ],
   "source": [
    "print('--Variance--')\n",
    "print('The variance of the population is %0.2f. If you divide this value by the number of data in a sample n, we get %0.2f. This is almost the same as the variance of the sample, %0.2f.'\n",
    "      %(np.var(weight_list),np.var(weight_list)/n, np.var(ave_weight)))\n",
    "\n",
    "print('\\n--Mean--')\n",
    "print('The mean of the population is %0.2f. This is almost the same as the mean of the sample, %0.2f.'\n",
    "      %(np.mean(weight_list),np.mean(ave_weight)))\n",
    "\n",
    "print('\\n--Mean and Median--')\n",
    "print('The mean of the sample is %0.2f. This is almost the same as the median of the sample, %0.2f. The mode of the sample has almost the same value as well (%0.2f).'\n",
    "      %(np.mean(ave_weight),np.median(ave_weight),statistics.mode(ave_weight)))\n"
   ]
  },
  {
   "cell_type": "markdown",
   "metadata": {},
   "source": [
    "# Normal distribution"
   ]
  },
  {
   "cell_type": "markdown",
   "metadata": {},
   "source": [
    "Here, we assume that the distribution of the population is described by the normal distribution. Under this assumption, we will do the same analysis."
   ]
  },
  {
   "cell_type": "code",
   "execution_count": 194,
   "metadata": {},
   "outputs": [
    {
     "name": "stdout",
     "output_type": "stream",
     "text": [
      "Mean: 49.98\n",
      "Variance: 1.09\n"
     ]
    },
    {
     "data": {
      "image/png": "[encoded data removed]",
      "text/plain": [
       "<Figure size 432x288 with 1 Axes>"
      ]
     },
     "metadata": {
      "needs_background": "light"
     },
     "output_type": "display_data"
    }
   ],
   "source": [
    "N_pop=1000 # number of data in the population\n",
    "\n",
    "np.random.seed(100) # random seed\n",
    "dist=np.random.normal(loc=50, size=N_pop)\n",
    "print('Mean: %0.2f'%np.mean(dist))\n",
    "print('Variance: %0.2f'%np.var(dist))\n",
    "\n",
    "plt.hist(dist)\n",
    "plt.title(\"Population\")\n",
    "plt.show()"
   ]
  },
  {
   "cell_type": "code",
   "execution_count": 195,
   "metadata": {},
   "outputs": [
    {
     "data": {
      "image/png": "[encoded data removed]",
      "text/plain": [
       "<Figure size 288x288 with 1 Axes>"
      ]
     },
     "metadata": {
      "needs_background": "light"
     },
     "output_type": "display_data"
    },
    {
     "name": "stdout",
     "output_type": "stream",
     "text": [
      "--Variance--\n",
      "The variance of the population is 1.09. If you divide this value by the number of data in a sample n, we get 0.01. This is the same as the variance of the sample, 0.01.\n",
      "\n",
      "--Mean--\n",
      "The mean of the population is 49.98. This is the same as the mean of the sample, 49.98.\n",
      "\n",
      "--Mean and Median--\n",
      "The mean of the sample is 49.98. This is almost the same as the median of the sample, 49.98.\n"
     ]
    }
   ],
   "source": [
    "num_trials=1000 # number of trials\n",
    "\n",
    "plt.figure(figsize=(4,4))\n",
    "\n",
    "ave = []\n",
    "n=100 # sample \n",
    "\n",
    "for i in range(num_trials):\n",
    "    idx=np.random.randint(0,dist.shape[0],n)    \n",
    "    ave.append(np.mean(dist[idx]))\n",
    "    \n",
    "plt.hist(dist)\n",
    "plt.title(\"n=%d, ave=%0.2f, variance=%0.2f\"%(n,np.mean(ave),np.var(ave)))\n",
    "\n",
    "plt.show()\n",
    "\n",
    "\n",
    "print('--Variance--')\n",
    "print('The variance of the population is %0.2f. If you divide this value by the number of data in a sample n, we get %0.2f. This is the same as the variance of the sample, %0.2f.'\n",
    "      %(np.var(dist),np.var(dist)/n, np.var(ave)))\n",
    "\n",
    "print('\\n--Mean--')\n",
    "print('The mean of the population is %0.2f. This is the same as the mean of the sample, %0.2f.'\n",
    "      %(np.mean(dist),np.mean(ave)))\n",
    "\n",
    "print('\\n--Mean and Median--')\n",
    "print('The mean of the sample is %0.2f. This is almost the same as the median of the sample, %0.2f.'\n",
    "      %(np.mean(ave),np.median(ave)))"
   ]
  },
  {
   "cell_type": "code",
   "execution_count": null,
   "metadata": {},
   "outputs": [],
   "source": []
  }
 ],
 "metadata": {
  "kernelspec": {
   "display_name": "Python 3",
   "language": "python",
   "name": "python3"
  },
  "language_info": {
   "codemirror_mode": {
    "name": "ipython",
    "version": 3
   },
   "file_extension": ".py",
   "mimetype": "text/x-python",
   "name": "python",
   "nbconvert_exporter": "python",
   "pygments_lexer": "ipython3",
   "version": "3.7.1"
  },
  "toc": {
   "base_numbering": 1,
   "nav_menu": {},
   "number_sections": true,
   "sideBar": true,
   "skip_h1_title": false,
   "title_cell": "Table of Contents",
   "title_sidebar": "Contents",
   "toc_cell": false,
   "toc_position": {},
   "toc_section_display": true,
   "toc_window_display": false
  }
 },
 "nbformat": 4,
 "nbformat_minor": 2
}
